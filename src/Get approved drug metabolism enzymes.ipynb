{
 "cells": [
  {
   "cell_type": "markdown",
   "metadata": {},
   "source": [
    "## Use BioThings_client to get drug metabolism enzymes info from drugbank"
   ]
  },
  {
   "cell_type": "code",
   "execution_count": 1,
   "metadata": {
    "collapsed": true
   },
   "outputs": [],
   "source": [
    "import biothings_client"
   ]
  },
  {
   "cell_type": "code",
   "execution_count": 2,
   "metadata": {
    "collapsed": true
   },
   "outputs": [],
   "source": [
    "# use the mychem client\n",
    "mc = biothings_client.get_client('drug')"
   ]
  },
  {
   "cell_type": "code",
   "execution_count": 3,
   "metadata": {
    "collapsed": true
   },
   "outputs": [],
   "source": [
    "# get all protein targets from mychem.info\n",
    "data = mc.query('_exists_:drugbank.enzymes.uniprot', fields='drugbank.enzymes.uniprot', fetch_all=True)"
   ]
  },
  {
   "cell_type": "code",
   "execution_count": 4,
   "metadata": {
    "collapsed": false
   },
   "outputs": [
    {
     "name": "stdout",
     "output_type": "stream",
     "text": [
      "Fetching 1075 drug(s) . . .\n",
      "No results to return\n"
     ]
    }
   ],
   "source": [
    "results = list(data)"
   ]
  },
  {
   "cell_type": "markdown",
   "metadata": {},
   "source": [
    "**Results**: Total number of drugs in MyChem.info containing target information is 6527"
   ]
  },
  {
   "cell_type": "code",
   "execution_count": 6,
   "metadata": {
    "collapsed": false
   },
   "outputs": [
    {
     "name": "stdout",
     "output_type": "stream",
     "text": [
      "3511\n"
     ]
    }
   ],
   "source": [
    "uniprot_list = []\n",
    "for _doc in results:\n",
    "    # handle cases where one drug has multiple targets, which are organized as a list\n",
    "    if type(_doc['drugbank']['enzymes']) == list:\n",
    "        for _enzyme in _doc['drugbank']['enzymes']:\n",
    "            uniprot_list.append(_enzyme['uniprot'])\n",
    "    # handle cases where one drug has only one target\n",
    "    else:\n",
    "        uniprot_list.append(_doc['drugbank']['enzymes']['uniprot'])\n",
    "print(len(uniprot_list))\n",
    "            "
   ]
  },
  {
   "cell_type": "code",
   "execution_count": 7,
   "metadata": {
    "collapsed": false
   },
   "outputs": [
    {
     "name": "stdout",
     "output_type": "stream",
     "text": [
      "219\n"
     ]
    }
   ],
   "source": [
    "# remove duplicate uniprot ids\n",
    "uniprot_list = list(set(uniprot_list))\n",
    "print(len(uniprot_list))"
   ]
  },
  {
   "cell_type": "markdown",
   "metadata": {},
   "source": [
    "## Use BioThings_client to get all NCBI Gene IDs from Uniprot IDs"
   ]
  },
  {
   "cell_type": "code",
   "execution_count": 8,
   "metadata": {
    "collapsed": true
   },
   "outputs": [],
   "source": [
    "mg = biothings_client.get_client('gene')"
   ]
  },
  {
   "cell_type": "code",
   "execution_count": 9,
   "metadata": {
    "collapsed": false
   },
   "outputs": [
    {
     "name": "stdout",
     "output_type": "stream",
     "text": [
      "querying 1-219...done.\n",
      "Finished.\n",
      "2 input query terms found dup hits:\n",
      "\t[('P22392', 2), ('P24462', 2)]\n",
      "26 input query terms found no hit:\n",
      "\t['Q9TRC7', 'P00808', 'P00484', 'A7BK78', 'P04167', 'P0A5N0', 'P00551', 'Q56148', 'P0A5L8', 'P04800',\n",
      "Pass \"returnall=True\" to return complete lists of duplicate or missing query terms.\n"
     ]
    }
   ],
   "source": [
    "gene_data = mg.querymany(uniprot_list, scopes='uniprot', fields='entrezgene', species='human')"
   ]
  },
  {
   "cell_type": "code",
   "execution_count": 10,
   "metadata": {
    "collapsed": false
   },
   "outputs": [
    {
     "name": "stdout",
     "output_type": "stream",
     "text": [
      "{'notfound': True, 'query': 'Q9TRC7'}\n",
      "{'notfound': True, 'query': 'P00808'}\n",
      "{'notfound': True, 'query': 'P00484'}\n",
      "{'notfound': True, 'query': 'A7BK78'}\n",
      "{'notfound': True, 'query': 'P04167'}\n",
      "{'notfound': True, 'query': 'P0A5N0'}\n",
      "{'notfound': True, 'query': 'P00551'}\n",
      "{'notfound': True, 'query': 'Q56148'}\n",
      "{'notfound': True, 'query': 'P0A5L8'}\n",
      "{'notfound': True, 'query': 'P04800'}\n",
      "{'notfound': True, 'query': 'Q9FAW5'}\n",
      "{'notfound': True, 'query': 'P00953'}\n",
      "{'notfound': True, 'query': 'O08355'}\n",
      "{'notfound': True, 'query': 'P11711'}\n",
      "{'notfound': True, 'query': 'P50224'}\n",
      "{'notfound': True, 'query': 'P26841'}\n",
      "{'notfound': True, 'query': 'P15149'}\n",
      "{'notfound': True, 'query': 'P05183'}\n",
      "{'notfound': True, 'query': 'P05057'}\n",
      "{'notfound': True, 'query': 'B6A7R5'}\n",
      "{'notfound': True, 'query': 'P00176'}\n",
      "{'notfound': True, 'query': 'P05184'}\n",
      "{'notfound': True, 'query': 'Q14097'}\n",
      "{'notfound': True, 'query': 'P12790'}\n",
      "{'notfound': True, 'query': 'Q6LAP9'}\n",
      "{'notfound': True, 'query': 'P14489'}\n"
     ]
    }
   ],
   "source": [
    "entrezgene_list = []\n",
    "for _doc in gene_data:\n",
    "    if 'entrezgene' in _doc:\n",
    "        entrezgene_list.append(_doc['entrezgene'])\n",
    "    else:\n",
    "        print(_doc)"
   ]
  },
  {
   "cell_type": "code",
   "execution_count": 11,
   "metadata": {
    "collapsed": false
   },
   "outputs": [
    {
     "name": "stdout",
     "output_type": "stream",
     "text": [
      "195\n"
     ]
    }
   ],
   "source": [
    "print(len(entrezgene_list))"
   ]
  },
  {
   "cell_type": "markdown",
   "metadata": {},
   "source": [
    "**Results**: Total number of NCBI Gene IDs returned from search is 195"
   ]
  }
 ],
 "metadata": {
  "kernelspec": {
   "display_name": "Python 3",
   "language": "python",
   "name": "python3"
  },
  "language_info": {
   "codemirror_mode": {
    "name": "ipython",
    "version": 3
   },
   "file_extension": ".py",
   "mimetype": "text/x-python",
   "name": "python",
   "nbconvert_exporter": "python",
   "pygments_lexer": "ipython3",
   "version": "3.5.0"
  }
 },
 "nbformat": 4,
 "nbformat_minor": 2
}
